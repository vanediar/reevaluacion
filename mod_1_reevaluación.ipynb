{
 "cells": [
  {
   "cell_type": "code",
   "execution_count": 44,
   "metadata": {},
   "outputs": [],
   "source": [
    "import re"
   ]
  },
  {
   "cell_type": "markdown",
   "metadata": {},
   "source": [
    "Programa de gestión de lista de contactos (nombre, nº de teléfono, e-mail)"
   ]
  },
  {
   "cell_type": "code",
   "execution_count": null,
   "metadata": {},
   "outputs": [],
   "source": [
    "# creo primero la función para verificar el correo, para luego usarla dentro de la función de crear contacto\n",
    "def validar_correo(email):\n",
    "    patron = r'^[a-zA-Z0-9_.+-]+@[a-zA-Z0-9-]+\\.[a-zA-Z0-9-.]+$'\n",
    "    return re.match"
   ]
  },
  {
   "cell_type": "code",
   "execution_count": 45,
   "metadata": {},
   "outputs": [],
   "source": [
    "# creo el diccionario donde se almacenarán los contactos\n",
    "\n",
    "lista_contactos = {}\n",
    "\n",
    "# Función para agregar contactos\n",
    "def agregar_contacto(nombre, tlf, email):\n",
    "\n",
    "    # creo la variable contacto para conformar la estructura con la que se guardará en lista_contactos\n",
    "    contacto = {nombre : (tlf, email)}\n",
    "   \n",
    "    if tlf in lista_contactos:\n",
    "        print('El teléfono ya existe en nuestra base de datos')\n",
    "    else:\n",
    "        # Valida el email con una expresión regular\n",
    "        if re.match(r'^[a-zA-Z0-9_.+-]+@[a-zA-Z0-9-]+\\.[a-zA-Z0-9-.]+$', email):\n",
    "            lista_contactos[nombre] = (tlf, email)\n",
    "            print(f'Contacto {nombre} agregado correctamente')\n",
    "        else:\n",
    "            print('El email no es válido')\n",
    "\n",
    "    return lista_contactos"
   ]
  },
  {
   "cell_type": "code",
   "execution_count": null,
   "metadata": {},
   "outputs": [],
   "source": [
    " #creo el patrón que verificará si el correo es correcto\n",
    "    patron = r'^[a-zA-Z0-9_.+-]+@[a-zA-Z0-9-]+\\.[a-zA-Z0-9-.]+$'"
   ]
  },
  {
   "cell_type": "code",
   "execution_count": 46,
   "metadata": {},
   "outputs": [
    {
     "name": "stdout",
     "output_type": "stream",
     "text": [
      "Contacto vanesa agregado correctamente\n"
     ]
    },
    {
     "data": {
      "text/plain": [
       "{'vanesa': ('626', 'vane@info.es')}"
      ]
     },
     "execution_count": 46,
     "metadata": {},
     "output_type": "execute_result"
    }
   ],
   "source": [
    "agregar_contacto('vanesa', '626', 'vane@info.es')"
   ]
  },
  {
   "cell_type": "code",
   "execution_count": 47,
   "metadata": {},
   "outputs": [
    {
     "name": "stdout",
     "output_type": "stream",
     "text": [
      "El email no es válido\n"
     ]
    },
    {
     "data": {
      "text/plain": [
       "{'vanesa': ('626', 'vane@info.es')}"
      ]
     },
     "execution_count": 47,
     "metadata": {},
     "output_type": "execute_result"
    }
   ],
   "source": [
    "agregar_contacto('vanesa', '626', 'vaneinfo.es')"
   ]
  },
  {
   "cell_type": "code",
   "execution_count": 7,
   "metadata": {},
   "outputs": [
    {
     "name": "stdout",
     "output_type": "stream",
     "text": [
      "{'vanesa': ('626', 'vane@info.es')}\n"
     ]
    }
   ],
   "source": [
    "print(lista_contactos)"
   ]
  },
  {
   "cell_type": "code",
   "execution_count": 58,
   "metadata": {},
   "outputs": [
    {
     "name": "stdout",
     "output_type": "stream",
     "text": [
      "Contacto maria agregado correctamente\n"
     ]
    },
    {
     "data": {
      "text/plain": [
       "{'vanesa': ('626', 'vane@info.es'), 'maria': ('685', 'info@info.es')}"
      ]
     },
     "execution_count": 58,
     "metadata": {},
     "output_type": "execute_result"
    }
   ],
   "source": [
    "agregar_contacto('maria', '685', 'info@info.es')"
   ]
  },
  {
   "cell_type": "code",
   "execution_count": 48,
   "metadata": {},
   "outputs": [],
   "source": [
    "# función para buscar un contacto: uso el if para que compruebe si existe en el diccionario\n",
    "\n",
    "def buscar_contacto(nombre):\n",
    "    if nombre in lista_contactos:\n",
    "        tlf, email = lista_contactos[nombre]\n",
    "        print(f'Contacto encontrado: {nombre}')\n",
    "        print(f'Teléfono: {tlf}')\n",
    "        print(f'Correo: {email}')\n",
    "    else:\n",
    "        print('El contacto no existe en nuestra base de datos')"
   ]
  },
  {
   "cell_type": "code",
   "execution_count": 49,
   "metadata": {},
   "outputs": [
    {
     "name": "stdout",
     "output_type": "stream",
     "text": [
      "Contacto encontrado: vanesa\n",
      "Teléfono: 626\n",
      "Correo: vane@info.es\n"
     ]
    }
   ],
   "source": [
    "buscar_contacto ('vanesa')"
   ]
  },
  {
   "cell_type": "code",
   "execution_count": 59,
   "metadata": {},
   "outputs": [
    {
     "name": "stdout",
     "output_type": "stream",
     "text": [
      "Contacto encontrado: maria\n",
      "Teléfono: 685\n",
      "Correo: info@info.es\n"
     ]
    }
   ],
   "source": [
    "buscar_contacto('maria')"
   ]
  },
  {
   "cell_type": "code",
   "execution_count": 57,
   "metadata": {},
   "outputs": [],
   "source": [
    "#función para eliminar un contacto: uso el if para que compruebe si el nombre existe en el diccionario y el método .pop para eliminarlo.\n",
    "\n",
    "def eliminar_contacto(nombre):\n",
    "    if nombre in lista_contactos:\n",
    "        print(f'Eliminamos el siguiente contacto de la lista:\\n {nombre} {lista_contactos.pop(nombre)}')\n",
    "    else:\n",
    "        print('Este usuario no existe en nuestra base de datos')"
   ]
  },
  {
   "cell_type": "code",
   "execution_count": 54,
   "metadata": {},
   "outputs": [
    {
     "name": "stdout",
     "output_type": "stream",
     "text": [
      "Este usuario no existe en nuestra base de datos\n"
     ]
    }
   ],
   "source": [
    "eliminar_contacto('juan')"
   ]
  },
  {
   "cell_type": "code",
   "execution_count": 60,
   "metadata": {},
   "outputs": [
    {
     "name": "stdout",
     "output_type": "stream",
     "text": [
      "Eliminamos el siguiente contacto de la lista:\n",
      " maria ('685', 'info@info.es')\n"
     ]
    }
   ],
   "source": [
    "eliminar_contacto('maria')"
   ]
  },
  {
   "cell_type": "code",
   "execution_count": 56,
   "metadata": {},
   "outputs": [
    {
     "data": {
      "text/plain": [
       "{'vanesa': ('626', 'vane@info.es')}"
      ]
     },
     "execution_count": 56,
     "metadata": {},
     "output_type": "execute_result"
    }
   ],
   "source": [
    "lista_contactos"
   ]
  }
 ],
 "metadata": {
  "kernelspec": {
   "display_name": "Python 3",
   "language": "python",
   "name": "python3"
  },
  "language_info": {
   "codemirror_mode": {
    "name": "ipython",
    "version": 3
   },
   "file_extension": ".py",
   "mimetype": "text/x-python",
   "name": "python",
   "nbconvert_exporter": "python",
   "pygments_lexer": "ipython3",
   "version": "3.11.9"
  }
 },
 "nbformat": 4,
 "nbformat_minor": 2
}
