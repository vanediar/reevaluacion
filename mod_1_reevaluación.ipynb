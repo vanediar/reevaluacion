{
 "cells": [
  {
   "cell_type": "code",
   "execution_count": 13,
   "metadata": {},
   "outputs": [],
   "source": [
    "import re"
   ]
  },
  {
   "cell_type": "markdown",
   "metadata": {},
   "source": [
    "## Creación de las Funciones"
   ]
  },
  {
   "cell_type": "code",
   "execution_count": 14,
   "metadata": {},
   "outputs": [],
   "source": [
    "# Creo el diccionario donde se almacenarán los contactos\n",
    "\n",
    "lista_contactos = {}\n",
    "\n",
    "# Creo primero la función para verificar el correo, para luego usarla dentro de la función de crear contacto. Uso una\n",
    "# expresión regular.\n",
    "def validar_correo(correo):\n",
    "    patron = r'^[a-zA-Z0-9_.+-]+@[a-zA-Z0-9-]+\\.[a-zA-Z0-9-.]+$'\n",
    "    return re.match(patron, correo) is not None\n",
    "\n",
    "# Función para agregar contactos\n",
    "def agregar_contacto(nombre, telefono, correo):\n",
    "\n",
    "    # Creo la variable contacto para conformar la estructura con la que se guardará en lista_contactos, que sería un\n",
    "    # diccionario cuya clave es nombre, y el valor es una lista con teléfono y correo.\n",
    "    contacto = {nombre : (telefono, correo)}\n",
    "   \n",
    "    if not validar_correo(correo):\n",
    "        print(\"Correo electrónico no válido.\")\n",
    "        return\n",
    "\n",
    "    # Comprobar si el teléfono ya existe. Utilizo el bucle for para que itere por los diferentes elementos dentro del\n",
    "    #  diccionario.\n",
    "    for _, (tel, _) in lista_contactos.items():\n",
    "        if tel == telefono:\n",
    "            return \"El número de teléfono ya existe.\"\n",
    "        \n",
    "    # Después de todas las comprobaciones, si todos los datos son correctos, se añaden los valores a lista_contactos\n",
    "    # con .update\n",
    "    else:\n",
    "        lista_contactos.update(contacto)\n",
    "        return (f'El contacto se ha añadido con éxito')"
   ]
  },
  {
   "cell_type": "code",
   "execution_count": 15,
   "metadata": {},
   "outputs": [],
   "source": [
    "# Función para buscar un contacto: uso el if para que compruebe si existe en el diccionario\n",
    "\n",
    "def buscar_contacto(nombre):\n",
    "    if nombre in lista_contactos:\n",
    "        telefono, correo = lista_contactos[nombre]\n",
    "        print(f'Contacto encontrado: {nombre}')\n",
    "        print(f'Teléfono: {telefono}')\n",
    "        print(f'Correo: {correo}')\n",
    "    else:\n",
    "        print('El contacto no existe en nuestra base de datos')"
   ]
  },
  {
   "cell_type": "code",
   "execution_count": 16,
   "metadata": {},
   "outputs": [],
   "source": [
    "# Función para eliminar un contacto: uso el if para que compruebe si el nombre existe en el diccionario y el método .pop\n",
    "# para eliminarlo.\n",
    "\n",
    "def eliminar_contacto(nombre):\n",
    "    if nombre in lista_contactos:\n",
    "        print(f'Eliminamos el siguiente contacto de la lista:\\n {nombre} {lista_contactos.pop(nombre)}')\n",
    "    else:\n",
    "        print('Este usuario no existe en nuestra base de datos')"
   ]
  },
  {
   "cell_type": "markdown",
   "metadata": {},
   "source": [
    "## Creación de la Clase"
   ]
  },
  {
   "cell_type": "code",
   "execution_count": 17,
   "metadata": {},
   "outputs": [],
   "source": [
    "# Creo la clase contacto con los atributos nombre, teléfono y correo.\n",
    "class Contacto:\n",
    "    def __init__(self, nombre, telefono, correo):\n",
    "        self.nombre = nombre\n",
    "        self.telefono = telefono\n",
    "        self.correo = correo\n",
    "\n",
    "# Establezco los métodos que he creado anteriormente y que se van a instanciar a la clase Contacto.        \n",
    "    def validar_correo(self):\n",
    "        return validar_correo(self.correo)\n",
    "    \n",
    "    def agregar_contacto(self):\n",
    "        agregar_contacto(self.nombre, self.telefono, self.correo)\n",
    "\n",
    "# A los métodos buscar_contacto y eliminar_contacto les aplico la función @staticmethod para aplicarlos sobre la clase en\n",
    "# sí misma, en lugar de sobre las instancias a la clase.    \n",
    "    @staticmethod\n",
    "    def buscar_contacto(nombre):\n",
    "        buscar_contacto(nombre)\n",
    "    \n",
    "    @staticmethod\n",
    "    def eliminar_contacto(nombre):\n",
    "        eliminar_contacto(nombre)"
   ]
  },
  {
   "cell_type": "markdown",
   "metadata": {},
   "source": [
    "## Creación de las Instancias"
   ]
  },
  {
   "cell_type": "code",
   "execution_count": 18,
   "metadata": {},
   "outputs": [],
   "source": [
    "# Almacenar 5 contactos\n",
    "# 1º creo las instancias a la clase\n",
    "contacto1 = Contacto(\"Juan\", \"1234567890\", \"juan@info.com\")\n",
    "contacto2 = Contacto(\"Maria\", \"2345678901\", \"maria@example.com\")\n",
    "contacto3 = Contacto(\"Jose\", \"3456789012\", \"jose@gmail.es\")\n",
    "contacto4 = Contacto(\"Eva\", \"4567890123\", \"eva@hotmail.com\")\n",
    "contacto5 = Contacto(\"Alberto\", \"5678901234\", \"alberto@example.com\")\n",
    "\n",
    "#2º almaceno los contactos a través de la función agregar contacto\n",
    "contacto1.agregar_contacto()\n",
    "contacto2.agregar_contacto()\n",
    "contacto3.agregar_contacto()\n",
    "contacto4.agregar_contacto()\n",
    "contacto5.agregar_contacto()"
   ]
  },
  {
   "cell_type": "code",
   "execution_count": 19,
   "metadata": {},
   "outputs": [
    {
     "name": "stdout",
     "output_type": "stream",
     "text": [
      "Contacto encontrado: Maria\n",
      "Teléfono: 2345678901\n",
      "Correo: maria@example.com\n"
     ]
    }
   ],
   "source": [
    "# Buscar un contacto que existe\n",
    "Contacto.buscar_contacto(\"Maria\")"
   ]
  },
  {
   "cell_type": "code",
   "execution_count": 20,
   "metadata": {},
   "outputs": [
    {
     "name": "stdout",
     "output_type": "stream",
     "text": [
      "El contacto no existe en nuestra base de datos\n"
     ]
    }
   ],
   "source": [
    "# Buscar un contacto que no existe\n",
    "Contacto.buscar_contacto(\"Pedro\")"
   ]
  },
  {
   "cell_type": "code",
   "execution_count": 22,
   "metadata": {},
   "outputs": [
    {
     "name": "stdout",
     "output_type": "stream",
     "text": [
      "Correo electrónico no válido.\n"
     ]
    }
   ],
   "source": [
    "# Añadir un contacto con un correo no válido\n",
    "contacto6 = Contacto(\"Alicia\", \"5678901234\", \"albertoexample.com\")\n",
    "contacto6.agregar_contacto()"
   ]
  },
  {
   "cell_type": "code",
   "execution_count": 23,
   "metadata": {},
   "outputs": [
    {
     "name": "stdout",
     "output_type": "stream",
     "text": [
      "Eliminamos el siguiente contacto de la lista:\n",
      " Jose ('3456789012', 'jose@gmail.es')\n"
     ]
    }
   ],
   "source": [
    "# Eliminar un contacto que existe\n",
    "Contacto.eliminar_contacto('Jose')"
   ]
  },
  {
   "cell_type": "code",
   "execution_count": 24,
   "metadata": {},
   "outputs": [
    {
     "name": "stdout",
     "output_type": "stream",
     "text": [
      "Este usuario no existe en nuestra base de datos\n"
     ]
    }
   ],
   "source": [
    "# Eliminar un contacto que no existe\n",
    "Contacto.eliminar_contacto('Jose')"
   ]
  }
 ],
 "metadata": {
  "kernelspec": {
   "display_name": "Python 3",
   "language": "python",
   "name": "python3"
  },
  "language_info": {
   "codemirror_mode": {
    "name": "ipython",
    "version": 3
   },
   "file_extension": ".py",
   "mimetype": "text/x-python",
   "name": "python",
   "nbconvert_exporter": "python",
   "pygments_lexer": "ipython3",
   "version": "3.11.9"
  }
 },
 "nbformat": 4,
 "nbformat_minor": 2
}
